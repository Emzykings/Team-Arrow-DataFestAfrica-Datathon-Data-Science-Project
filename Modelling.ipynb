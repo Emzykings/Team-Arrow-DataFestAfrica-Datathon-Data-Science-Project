{
  "nbformat": 4,
  "nbformat_minor": 0,
  "metadata": {
    "colab": {
      "provenance": [],
      "gpuType": "T4"
    },
    "kernelspec": {
      "name": "python3",
      "display_name": "Python 3"
    },
    "language_info": {
      "name": "python"
    },
    "accelerator": "GPU"
  },
  "cells": [
    {
      "cell_type": "markdown",
      "source": [
        "link to data - https://drive.google.com/file/d/1TQNmoBGh1il841DlzSisJ6OV5KxR2m48/view?usp=drive_link"
      ],
      "metadata": {
        "id": "HRenvT-RbFHR"
      }
    },
    {
      "cell_type": "markdown",
      "source": [
        "# Modelling"
      ],
      "metadata": {
        "id": "umLhHAV6JPXR"
      }
    },
    {
      "cell_type": "markdown",
      "source": [
        "### Importing Packages"
      ],
      "metadata": {
        "id": "ozKP2-89JL_l"
      }
    },
    {
      "cell_type": "code",
      "execution_count": 1,
      "metadata": {
        "id": "G4UzEfq78vp3"
      },
      "outputs": [],
      "source": [
        "import pandas as pd\n",
        "import matplotlib.pyplot as plt\n",
        "import seaborn as sns\n",
        "import numpy as np\n",
        "from sklearn.preprocessing import LabelEncoder, StandardScaler\n",
        "import warnings\n",
        "warnings.filterwarnings('ignore')\n",
        "pd.set_option('display.max_columns', 30)\n",
        "import geopandas as gpd\n",
        "from lightgbm import LGBMClassifier\n",
        "from sklearn.model_selection import train_test_split\n",
        "from sklearn.preprocessing import StandardScaler\n",
        "from keras.models import Sequential\n",
        "from keras.layers import Dense\n",
        "from tqdm import tqdm\n",
        "from sklearn.metrics import accuracy_score, f1_score, balanced_accuracy_score\n",
        "from sklearn.feature_selection import chi2, SelectKBest\n",
        "from sklearn.cluster import KMeans"
      ]
    },
    {
      "cell_type": "code",
      "source": [
        "#mounting drive\n",
        "from google.colab import drive\n",
        "drive.mount('/content/drive')\n"
      ],
      "metadata": {
        "colab": {
          "base_uri": "https://localhost:8080/"
        },
        "id": "YnCA3Wb487H_",
        "outputId": "4100ba58-05c9-4eb1-d250-5fa7b61093ac"
      },
      "execution_count": 2,
      "outputs": [
        {
          "output_type": "stream",
          "name": "stdout",
          "text": [
            "Drive already mounted at /content/drive; to attempt to forcibly remount, call drive.mount(\"/content/drive\", force_remount=True).\n"
          ]
        }
      ]
    },
    {
      "cell_type": "code",
      "source": [
        "file_path = '/content/drive/MyDrive/datafest_hackathon/data_after_feature_engineering.csv'"
      ],
      "metadata": {
        "id": "Julp3xFq89Wz"
      },
      "execution_count": 3,
      "outputs": []
    },
    {
      "cell_type": "code",
      "source": [
        "df = pd.read_csv(file_path)"
      ],
      "metadata": {
        "id": "oq9kuzdN9KXY"
      },
      "execution_count": 4,
      "outputs": []
    },
    {
      "cell_type": "code",
      "source": [
        "#dropping unnecessary columns from data\n",
        "df = df.drop(columns = [\"Transaction ID\",\"User ID\", \"Transaction Date and Time\",\"IP Address\"])"
      ],
      "metadata": {
        "id": "28EhbB0cAOoc"
      },
      "execution_count": 5,
      "outputs": []
    },
    {
      "cell_type": "code",
      "source": [
        "# Get the list of categorical columns\n",
        "categorical_columns = df.select_dtypes(include=['object']).columns\n",
        "categorical_columns"
      ],
      "metadata": {
        "colab": {
          "base_uri": "https://localhost:8080/"
        },
        "id": "IDePboVvAyvz",
        "outputId": "7c8c2884-eed8-4bde-e148-bf4f9ab294c6"
      },
      "execution_count": 6,
      "outputs": [
        {
          "output_type": "execute_result",
          "data": {
            "text/plain": [
              "Index(['Payment Method', 'Country Code', 'Transaction Type', 'Device Type',\n",
              "       'Browser Type', 'Operating System', 'Merchant Category',\n",
              "       'User Occupation', 'User Gender', 'User Account Status',\n",
              "       'Transaction Status', 'Transaction Time of Day',\n",
              "       'User's Device Location', 'Transaction Currency', 'Transaction Purpose',\n",
              "       'User's Email Domain', 'Transaction Authentication Method',\n",
              "       'mail_type'],\n",
              "      dtype='object')"
            ]
          },
          "metadata": {},
          "execution_count": 6
        }
      ]
    },
    {
      "cell_type": "code",
      "source": [
        "# Apply Label Encoding to each categorical column\n",
        "label_encoder = LabelEncoder()\n",
        "for column in categorical_columns:\n",
        "    df[column] = label_encoder.fit_transform(df[column])"
      ],
      "metadata": {
        "id": "-IHLjnIs9Mrk"
      },
      "execution_count": 7,
      "outputs": []
    },
    {
      "cell_type": "code",
      "source": [
        "df['Fraudulent Flag'] = df['Fraudulent Flag'].astype('int')"
      ],
      "metadata": {
        "id": "N12KQnJmvFXg"
      },
      "execution_count": 8,
      "outputs": []
    },
    {
      "cell_type": "markdown",
      "source": [
        "### Data Splitting"
      ],
      "metadata": {
        "id": "OPjS2VSFJpg9"
      }
    },
    {
      "cell_type": "code",
      "source": [
        "X,y = df.drop('Fraudulent Flag',axis = 1), df['Fraudulent Flag']"
      ],
      "metadata": {
        "id": "fW_frS03BFcI"
      },
      "execution_count": 9,
      "outputs": []
    },
    {
      "cell_type": "code",
      "source": [
        "xtrain,xtest,ytrain,ytest = train_test_split(X,y, random_state = 42,stratify = y, test_size = 0.35)"
      ],
      "metadata": {
        "id": "HL0JN7jwuYR1"
      },
      "execution_count": 10,
      "outputs": []
    },
    {
      "cell_type": "markdown",
      "source": [
        "### Standardization"
      ],
      "metadata": {
        "id": "pLzuI3ePJt4I"
      }
    },
    {
      "cell_type": "code",
      "source": [
        "scaler = StandardScaler()\n",
        "xtrain = scaler.fit_transform(xtrain)\n",
        "xtest = scaler.transform(xtest)"
      ],
      "metadata": {
        "id": "DTWnUoMMyOv-"
      },
      "execution_count": 11,
      "outputs": []
    },
    {
      "cell_type": "markdown",
      "source": [
        "### Training & Validation"
      ],
      "metadata": {
        "id": "X6JDJSWUJxfv"
      }
    },
    {
      "cell_type": "markdown",
      "source": [
        "In the training and validation stage, we seek to create robust models 🔥🔥🔥 that are able to predict if a transaction is fraudulent or not."
      ],
      "metadata": {
        "id": "OHZWHQdNRSm6"
      }
    },
    {
      "cell_type": "markdown",
      "source": [
        "### Machine Learning Approach"
      ],
      "metadata": {
        "id": "Kp1jZv1VKC2f"
      }
    },
    {
      "cell_type": "markdown",
      "source": [
        "- For the machine learning section, the lightgbm classifier was used to train the data. The number of iterations were varied but they didn't seem to improve after changing them. It seemed to just have an accuracy of averagely 50%, it suggests that the model sees the data as a probabilistic data, i.e 50:50. This could be due to the data source. In my own opinion, the whole data seems to be simulated and it makes all data to just fit around the center in the feature space.\n",
        "\n",
        "- The results of the machine learning model for accuracy, f1 score and balanced accuracy score are shown below."
      ],
      "metadata": {
        "id": "IlNGS4-XR4RO"
      }
    },
    {
      "cell_type": "code",
      "source": [
        "#Testing various classifiers to see which gives the best accuracy score\n",
        "model_results = pd.DataFrame(columns=[\"Model\", \"accuracy\",'f1_score','balanced accuracy score'])\n",
        "models = [\n",
        "              (\"lgbm_with_50_iterations\", LGBMClassifier(random_state =  42,n_iterations = 50)),\n",
        "              (\"lgbm_with_100_iterations\", LGBMClassifier(random_state =  42,n_iterations = 100)),\n",
        "               (\"lgbm_with_150_iterations\", LGBMClassifier(random_state =  42,n_iterations = 150)),\n",
        "\n",
        "          ]"
      ],
      "metadata": {
        "id": "zHTuWVfc-ofv"
      },
      "execution_count": 12,
      "outputs": []
    },
    {
      "cell_type": "code",
      "source": [
        "for clf_name, clf in tqdm(models):\n",
        "    clf.fit(xtrain, ytrain)\n",
        "    predictions = clf.predict(xtest)\n",
        "    accuracy = accuracy_score(ytest,predictions)\n",
        "    f1 = f1_score(ytest,predictions)\n",
        "    balanced = balanced_accuracy_score(ytest,predictions)\n",
        "\n",
        "    new_row = {\"Model\": clf_name, \"accuracy\": accuracy, 'f1_score':f1,'balanced accuracy score':balanced}\n",
        "    model_results = model_results.append(new_row, ignore_index=True)"
      ],
      "metadata": {
        "colab": {
          "base_uri": "https://localhost:8080/"
        },
        "id": "I6HlVlR7_yzZ",
        "outputId": "c93ecf2f-cf26-4125-9fd1-148e82c2f9ad"
      },
      "execution_count": 13,
      "outputs": [
        {
          "output_type": "stream",
          "name": "stderr",
          "text": [
            "\r  0%|          | 0/3 [00:00<?, ?it/s]"
          ]
        },
        {
          "output_type": "stream",
          "name": "stdout",
          "text": [
            "[LightGBM] [Warning] Unknown parameter: n_iterations\n",
            "[LightGBM] [Warning] Unknown parameter: n_iterations\n",
            "[LightGBM] [Info] Number of positive: 1949939, number of negative: 1950061\n",
            "[LightGBM] [Warning] Auto-choosing row-wise multi-threading, the overhead of testing was 0.385507 seconds.\n",
            "You can set `force_row_wise=true` to remove the overhead.\n",
            "And if memory is not enough, you can set `force_col_wise=true`.\n",
            "[LightGBM] [Info] Total Bins 2978\n",
            "[LightGBM] [Info] Number of data points in the train set: 3900000, number of used features: 38\n",
            "[LightGBM] [Info] [binary:BoostFromScore]: pavg=0.499984 -> initscore=-0.000063\n",
            "[LightGBM] [Info] Start training from score -0.000063\n",
            "[LightGBM] [Warning] Unknown parameter: n_iterations\n"
          ]
        },
        {
          "output_type": "stream",
          "name": "stderr",
          "text": [
            "\r 33%|███▎      | 1/3 [00:59<01:59, 59.85s/it]"
          ]
        },
        {
          "output_type": "stream",
          "name": "stdout",
          "text": [
            "[LightGBM] [Warning] Unknown parameter: n_iterations\n",
            "[LightGBM] [Warning] Unknown parameter: n_iterations\n",
            "[LightGBM] [Info] Number of positive: 1949939, number of negative: 1950061\n",
            "[LightGBM] [Warning] Auto-choosing row-wise multi-threading, the overhead of testing was 0.706964 seconds.\n",
            "You can set `force_row_wise=true` to remove the overhead.\n",
            "And if memory is not enough, you can set `force_col_wise=true`.\n",
            "[LightGBM] [Info] Total Bins 2978\n",
            "[LightGBM] [Info] Number of data points in the train set: 3900000, number of used features: 38\n",
            "[LightGBM] [Info] [binary:BoostFromScore]: pavg=0.499984 -> initscore=-0.000063\n",
            "[LightGBM] [Info] Start training from score -0.000063\n",
            "[LightGBM] [Warning] Unknown parameter: n_iterations\n"
          ]
        },
        {
          "output_type": "stream",
          "name": "stderr",
          "text": [
            "\r 67%|██████▋   | 2/3 [02:00<01:00, 60.46s/it]"
          ]
        },
        {
          "output_type": "stream",
          "name": "stdout",
          "text": [
            "[LightGBM] [Warning] Unknown parameter: n_iterations\n",
            "[LightGBM] [Warning] Unknown parameter: n_iterations\n",
            "[LightGBM] [Info] Number of positive: 1949939, number of negative: 1950061\n",
            "[LightGBM] [Warning] Auto-choosing row-wise multi-threading, the overhead of testing was 0.397019 seconds.\n",
            "You can set `force_row_wise=true` to remove the overhead.\n",
            "And if memory is not enough, you can set `force_col_wise=true`.\n",
            "[LightGBM] [Info] Total Bins 2978\n",
            "[LightGBM] [Info] Number of data points in the train set: 3900000, number of used features: 38\n",
            "[LightGBM] [Info] [binary:BoostFromScore]: pavg=0.499984 -> initscore=-0.000063\n",
            "[LightGBM] [Info] Start training from score -0.000063\n",
            "[LightGBM] [Warning] Unknown parameter: n_iterations\n"
          ]
        },
        {
          "output_type": "stream",
          "name": "stderr",
          "text": [
            "100%|██████████| 3/3 [03:00<00:00, 60.30s/it]\n"
          ]
        }
      ]
    },
    {
      "cell_type": "code",
      "source": [
        "model_results.sort_values(by=\"accuracy\", ascending=False)"
      ],
      "metadata": {
        "colab": {
          "base_uri": "https://localhost:8080/",
          "height": 143
        },
        "id": "fj_owfVxwm7g",
        "outputId": "df6777ce-8fb0-45d6-8d15-5c60c650cbc5"
      },
      "execution_count": 14,
      "outputs": [
        {
          "output_type": "execute_result",
          "data": {
            "text/plain": [
              "                      Model  accuracy  f1_score  balanced accuracy score\n",
              "0   lgbm_with_50_iterations   0.50027  0.506988                 0.500271\n",
              "1  lgbm_with_100_iterations   0.50027  0.506988                 0.500271\n",
              "2  lgbm_with_150_iterations   0.50027  0.506988                 0.500271"
            ],
            "text/html": [
              "\n",
              "  <div id=\"df-6a0a946a-1e4d-4fd6-bd6f-d91dbfd3b64a\" class=\"colab-df-container\">\n",
              "    <div>\n",
              "<style scoped>\n",
              "    .dataframe tbody tr th:only-of-type {\n",
              "        vertical-align: middle;\n",
              "    }\n",
              "\n",
              "    .dataframe tbody tr th {\n",
              "        vertical-align: top;\n",
              "    }\n",
              "\n",
              "    .dataframe thead th {\n",
              "        text-align: right;\n",
              "    }\n",
              "</style>\n",
              "<table border=\"1\" class=\"dataframe\">\n",
              "  <thead>\n",
              "    <tr style=\"text-align: right;\">\n",
              "      <th></th>\n",
              "      <th>Model</th>\n",
              "      <th>accuracy</th>\n",
              "      <th>f1_score</th>\n",
              "      <th>balanced accuracy score</th>\n",
              "    </tr>\n",
              "  </thead>\n",
              "  <tbody>\n",
              "    <tr>\n",
              "      <th>0</th>\n",
              "      <td>lgbm_with_50_iterations</td>\n",
              "      <td>0.50027</td>\n",
              "      <td>0.506988</td>\n",
              "      <td>0.500271</td>\n",
              "    </tr>\n",
              "    <tr>\n",
              "      <th>1</th>\n",
              "      <td>lgbm_with_100_iterations</td>\n",
              "      <td>0.50027</td>\n",
              "      <td>0.506988</td>\n",
              "      <td>0.500271</td>\n",
              "    </tr>\n",
              "    <tr>\n",
              "      <th>2</th>\n",
              "      <td>lgbm_with_150_iterations</td>\n",
              "      <td>0.50027</td>\n",
              "      <td>0.506988</td>\n",
              "      <td>0.500271</td>\n",
              "    </tr>\n",
              "  </tbody>\n",
              "</table>\n",
              "</div>\n",
              "    <div class=\"colab-df-buttons\">\n",
              "\n",
              "  <div class=\"colab-df-container\">\n",
              "    <button class=\"colab-df-convert\" onclick=\"convertToInteractive('df-6a0a946a-1e4d-4fd6-bd6f-d91dbfd3b64a')\"\n",
              "            title=\"Convert this dataframe to an interactive table.\"\n",
              "            style=\"display:none;\">\n",
              "\n",
              "  <svg xmlns=\"http://www.w3.org/2000/svg\" height=\"24px\" viewBox=\"0 -960 960 960\">\n",
              "    <path d=\"M120-120v-720h720v720H120Zm60-500h600v-160H180v160Zm220 220h160v-160H400v160Zm0 220h160v-160H400v160ZM180-400h160v-160H180v160Zm440 0h160v-160H620v160ZM180-180h160v-160H180v160Zm440 0h160v-160H620v160Z\"/>\n",
              "  </svg>\n",
              "    </button>\n",
              "\n",
              "  <style>\n",
              "    .colab-df-container {\n",
              "      display:flex;\n",
              "      gap: 12px;\n",
              "    }\n",
              "\n",
              "    .colab-df-convert {\n",
              "      background-color: #E8F0FE;\n",
              "      border: none;\n",
              "      border-radius: 50%;\n",
              "      cursor: pointer;\n",
              "      display: none;\n",
              "      fill: #1967D2;\n",
              "      height: 32px;\n",
              "      padding: 0 0 0 0;\n",
              "      width: 32px;\n",
              "    }\n",
              "\n",
              "    .colab-df-convert:hover {\n",
              "      background-color: #E2EBFA;\n",
              "      box-shadow: 0px 1px 2px rgba(60, 64, 67, 0.3), 0px 1px 3px 1px rgba(60, 64, 67, 0.15);\n",
              "      fill: #174EA6;\n",
              "    }\n",
              "\n",
              "    .colab-df-buttons div {\n",
              "      margin-bottom: 4px;\n",
              "    }\n",
              "\n",
              "    [theme=dark] .colab-df-convert {\n",
              "      background-color: #3B4455;\n",
              "      fill: #D2E3FC;\n",
              "    }\n",
              "\n",
              "    [theme=dark] .colab-df-convert:hover {\n",
              "      background-color: #434B5C;\n",
              "      box-shadow: 0px 1px 3px 1px rgba(0, 0, 0, 0.15);\n",
              "      filter: drop-shadow(0px 1px 2px rgba(0, 0, 0, 0.3));\n",
              "      fill: #FFFFFF;\n",
              "    }\n",
              "  </style>\n",
              "\n",
              "    <script>\n",
              "      const buttonEl =\n",
              "        document.querySelector('#df-6a0a946a-1e4d-4fd6-bd6f-d91dbfd3b64a button.colab-df-convert');\n",
              "      buttonEl.style.display =\n",
              "        google.colab.kernel.accessAllowed ? 'block' : 'none';\n",
              "\n",
              "      async function convertToInteractive(key) {\n",
              "        const element = document.querySelector('#df-6a0a946a-1e4d-4fd6-bd6f-d91dbfd3b64a');\n",
              "        const dataTable =\n",
              "          await google.colab.kernel.invokeFunction('convertToInteractive',\n",
              "                                                    [key], {});\n",
              "        if (!dataTable) return;\n",
              "\n",
              "        const docLinkHtml = 'Like what you see? Visit the ' +\n",
              "          '<a target=\"_blank\" href=https://colab.research.google.com/notebooks/data_table.ipynb>data table notebook</a>'\n",
              "          + ' to learn more about interactive tables.';\n",
              "        element.innerHTML = '';\n",
              "        dataTable['output_type'] = 'display_data';\n",
              "        await google.colab.output.renderOutput(dataTable, element);\n",
              "        const docLink = document.createElement('div');\n",
              "        docLink.innerHTML = docLinkHtml;\n",
              "        element.appendChild(docLink);\n",
              "      }\n",
              "    </script>\n",
              "  </div>\n",
              "\n",
              "\n",
              "<div id=\"df-bca09809-72b6-4db0-bf71-58045f254436\">\n",
              "  <button class=\"colab-df-quickchart\" onclick=\"quickchart('df-bca09809-72b6-4db0-bf71-58045f254436')\"\n",
              "            title=\"Suggest charts.\"\n",
              "            style=\"display:none;\">\n",
              "\n",
              "<svg xmlns=\"http://www.w3.org/2000/svg\" height=\"24px\"viewBox=\"0 0 24 24\"\n",
              "     width=\"24px\">\n",
              "    <g>\n",
              "        <path d=\"M19 3H5c-1.1 0-2 .9-2 2v14c0 1.1.9 2 2 2h14c1.1 0 2-.9 2-2V5c0-1.1-.9-2-2-2zM9 17H7v-7h2v7zm4 0h-2V7h2v10zm4 0h-2v-4h2v4z\"/>\n",
              "    </g>\n",
              "</svg>\n",
              "  </button>\n",
              "\n",
              "<style>\n",
              "  .colab-df-quickchart {\n",
              "      --bg-color: #E8F0FE;\n",
              "      --fill-color: #1967D2;\n",
              "      --hover-bg-color: #E2EBFA;\n",
              "      --hover-fill-color: #174EA6;\n",
              "      --disabled-fill-color: #AAA;\n",
              "      --disabled-bg-color: #DDD;\n",
              "  }\n",
              "\n",
              "  [theme=dark] .colab-df-quickchart {\n",
              "      --bg-color: #3B4455;\n",
              "      --fill-color: #D2E3FC;\n",
              "      --hover-bg-color: #434B5C;\n",
              "      --hover-fill-color: #FFFFFF;\n",
              "      --disabled-bg-color: #3B4455;\n",
              "      --disabled-fill-color: #666;\n",
              "  }\n",
              "\n",
              "  .colab-df-quickchart {\n",
              "    background-color: var(--bg-color);\n",
              "    border: none;\n",
              "    border-radius: 50%;\n",
              "    cursor: pointer;\n",
              "    display: none;\n",
              "    fill: var(--fill-color);\n",
              "    height: 32px;\n",
              "    padding: 0;\n",
              "    width: 32px;\n",
              "  }\n",
              "\n",
              "  .colab-df-quickchart:hover {\n",
              "    background-color: var(--hover-bg-color);\n",
              "    box-shadow: 0 1px 2px rgba(60, 64, 67, 0.3), 0 1px 3px 1px rgba(60, 64, 67, 0.15);\n",
              "    fill: var(--button-hover-fill-color);\n",
              "  }\n",
              "\n",
              "  .colab-df-quickchart-complete:disabled,\n",
              "  .colab-df-quickchart-complete:disabled:hover {\n",
              "    background-color: var(--disabled-bg-color);\n",
              "    fill: var(--disabled-fill-color);\n",
              "    box-shadow: none;\n",
              "  }\n",
              "\n",
              "  .colab-df-spinner {\n",
              "    border: 2px solid var(--fill-color);\n",
              "    border-color: transparent;\n",
              "    border-bottom-color: var(--fill-color);\n",
              "    animation:\n",
              "      spin 1s steps(1) infinite;\n",
              "  }\n",
              "\n",
              "  @keyframes spin {\n",
              "    0% {\n",
              "      border-color: transparent;\n",
              "      border-bottom-color: var(--fill-color);\n",
              "      border-left-color: var(--fill-color);\n",
              "    }\n",
              "    20% {\n",
              "      border-color: transparent;\n",
              "      border-left-color: var(--fill-color);\n",
              "      border-top-color: var(--fill-color);\n",
              "    }\n",
              "    30% {\n",
              "      border-color: transparent;\n",
              "      border-left-color: var(--fill-color);\n",
              "      border-top-color: var(--fill-color);\n",
              "      border-right-color: var(--fill-color);\n",
              "    }\n",
              "    40% {\n",
              "      border-color: transparent;\n",
              "      border-right-color: var(--fill-color);\n",
              "      border-top-color: var(--fill-color);\n",
              "    }\n",
              "    60% {\n",
              "      border-color: transparent;\n",
              "      border-right-color: var(--fill-color);\n",
              "    }\n",
              "    80% {\n",
              "      border-color: transparent;\n",
              "      border-right-color: var(--fill-color);\n",
              "      border-bottom-color: var(--fill-color);\n",
              "    }\n",
              "    90% {\n",
              "      border-color: transparent;\n",
              "      border-bottom-color: var(--fill-color);\n",
              "    }\n",
              "  }\n",
              "</style>\n",
              "\n",
              "  <script>\n",
              "    async function quickchart(key) {\n",
              "      const quickchartButtonEl =\n",
              "        document.querySelector('#' + key + ' button');\n",
              "      quickchartButtonEl.disabled = true;  // To prevent multiple clicks.\n",
              "      quickchartButtonEl.classList.add('colab-df-spinner');\n",
              "      try {\n",
              "        const charts = await google.colab.kernel.invokeFunction(\n",
              "            'suggestCharts', [key], {});\n",
              "      } catch (error) {\n",
              "        console.error('Error during call to suggestCharts:', error);\n",
              "      }\n",
              "      quickchartButtonEl.classList.remove('colab-df-spinner');\n",
              "      quickchartButtonEl.classList.add('colab-df-quickchart-complete');\n",
              "    }\n",
              "    (() => {\n",
              "      let quickchartButtonEl =\n",
              "        document.querySelector('#df-bca09809-72b6-4db0-bf71-58045f254436 button');\n",
              "      quickchartButtonEl.style.display =\n",
              "        google.colab.kernel.accessAllowed ? 'block' : 'none';\n",
              "    })();\n",
              "  </script>\n",
              "</div>\n",
              "    </div>\n",
              "  </div>\n"
            ]
          },
          "metadata": {},
          "execution_count": 14
        }
      ]
    },
    {
      "cell_type": "markdown",
      "source": [
        "### Deep Learning Approach"
      ],
      "metadata": {
        "id": "ouJTmw5sJ9rA"
      }
    },
    {
      "cell_type": "markdown",
      "source": [
        "- Deep learning is popular for its ability to efficiently derive insights from large data. A deep learning architecture was built to train the data. The input layer is the number of features in the training data(xtrain). Hidden layers were then added to the in the order 16,32,128 and an output layer of 1 for the predictions. The relu activation function was used, adam as the optimizer, binary_crossentropy as the loss and accuracy as the metric.\n",
        "\n",
        "- After compiling, training and evaluating the model, it was inferred that the model is also performing at the same level as the lightgbn machine learning model at accuracy of 50%. It corroborates with what was said earlier that the data is likely having some discrepancies which keeps the model thinking of which direction to go in terms of prediction."
      ],
      "metadata": {
        "id": "gM7ugTT-Sw7o"
      }
    },
    {
      "cell_type": "code",
      "source": [
        "# Create a Sequential model\n",
        "model = Sequential()\n",
        "\n",
        "# Add input layer\n",
        "model.add(Dense(units=16, activation='relu', input_dim=xtrain.shape[1]))\n",
        "\n",
        "# Add one or more hidden layers\n",
        "model.add(Dense(units=32, activation='relu'))\n",
        "\n",
        "model.add(Dense(units=128, activation='relu'))\n",
        "\n",
        "# Add the output layer (use 'sigmoid' for binary classification)\n",
        "model.add(Dense(units=1, activation='sigmoid'))\n",
        "\n",
        "# Compile the model\n",
        "model.compile(optimizer='adam', loss='binary_crossentropy', metrics=['accuracy'])"
      ],
      "metadata": {
        "id": "nElFrPyAzJ9_"
      },
      "execution_count": 15,
      "outputs": []
    },
    {
      "cell_type": "code",
      "source": [
        "# Train the model\n",
        "model.fit(xtrain, ytrain, epochs=3, batch_size=128, validation_data=(xtest, ytest))"
      ],
      "metadata": {
        "colab": {
          "base_uri": "https://localhost:8080/"
        },
        "id": "pqtxOi0J27eG",
        "outputId": "3663920c-7487-4d28-d6fa-e6c3a696a8cc"
      },
      "execution_count": 16,
      "outputs": [
        {
          "output_type": "stream",
          "name": "stdout",
          "text": [
            "Epoch 1/3\n",
            "30469/30469 [==============================] - 168s 5ms/step - loss: 0.6933 - accuracy: 0.4994 - val_loss: 0.6932 - val_accuracy: 0.4997\n",
            "Epoch 2/3\n",
            "30469/30469 [==============================] - 161s 5ms/step - loss: 0.6932 - accuracy: 0.5000 - val_loss: 0.6932 - val_accuracy: 0.4999\n",
            "Epoch 3/3\n",
            "30469/30469 [==============================] - 169s 6ms/step - loss: 0.6932 - accuracy: 0.4999 - val_loss: 0.6933 - val_accuracy: 0.5000\n"
          ]
        },
        {
          "output_type": "execute_result",
          "data": {
            "text/plain": [
              "<keras.src.callbacks.History at 0x7b861ce16380>"
            ]
          },
          "metadata": {},
          "execution_count": 16
        }
      ]
    },
    {
      "cell_type": "code",
      "source": [
        "# Evaluate the model\n",
        "loss, accuracy = model.evaluate(xtest, ytest)\n",
        "print(f'Test Loss: {loss:.4f}')\n",
        "print(f'Test Accuracy: {accuracy:.4f}')"
      ],
      "metadata": {
        "colab": {
          "base_uri": "https://localhost:8080/"
        },
        "id": "LEi5Jrf23FvJ",
        "outputId": "24cb7410-9903-4231-ace5-28b3ce1397e4"
      },
      "execution_count": 17,
      "outputs": [
        {
          "output_type": "stream",
          "name": "stdout",
          "text": [
            "65625/65625 [==============================] - 181s 3ms/step - loss: 0.6928 - accuracy: 0.5000\n",
            "Test Loss: 0.6928\n",
            "Test Accuracy: 0.5000\n"
          ]
        }
      ]
    },
    {
      "cell_type": "markdown",
      "source": [
        "### Unsupervised Learning Approach"
      ],
      "metadata": {
        "id": "V3h9M2UrJ6GG"
      }
    },
    {
      "cell_type": "markdown",
      "source": [
        "- In the unsupervised learning approach, the Kmeans algorithm was used to understand the data better. Kmeans is an unsupervised learning approach which means the students are learning on their own without the help of a teacher.\n",
        "\n",
        "- For the Kmeans model, the number of clusters used was 4, a higher number of clusters could be used but because of the memory or ram usage, 4 was used. After fitting the data and transorming, the output was in form of labels and in this case 4 is expected since the number of clusters while instantiating the model was 4.\n",
        "\n",
        "- To check how well the model performed, the silhouette score was also obtained.\n",
        "\n",
        "- A visual plot was created to see how well the Kmeans model performed. It appears that all the data are scattered around in no regular form, this makes the kmeans not efficient enough too."
      ],
      "metadata": {
        "id": "bzzIQKu2Ug7n"
      }
    },
    {
      "cell_type": "code",
      "source": [
        "kmeans = KMeans(random_state =42,n_clusters=4)"
      ],
      "metadata": {
        "id": "D1xAGwsk-QAJ"
      },
      "execution_count": 18,
      "outputs": []
    },
    {
      "cell_type": "code",
      "source": [
        "train_kmeans_predict = kmeans.fit_predict(xtrain)"
      ],
      "metadata": {
        "id": "0OL3gDsv-VUy"
      },
      "execution_count": 19,
      "outputs": []
    },
    {
      "cell_type": "code",
      "source": [
        "from sklearn.metrics import silhouette_score\n",
        "silhouette_score(xtrain, train_kmeans_predict)"
      ],
      "metadata": {
        "id": "q4xJEJulVzta"
      },
      "execution_count": null,
      "outputs": []
    },
    {
      "cell_type": "code",
      "source": [
        "# Number of clusters\n",
        "num_clusters = len(np.unique(train_kmeans_predict))\n",
        "\n",
        "# Define colors for each cluster\n",
        "colors = ['r', 'g','b','cyan']\n",
        "\n",
        "# Create a scatter plot for each cluster\n",
        "plt.figure(figsize=(10, 6))\n",
        "for i in range(num_clusters):\n",
        "    cluster_data = xtrain[train_kmeans_predict == i]\n",
        "    plt.scatter(cluster_data[:, 0], cluster_data[:, 1], c=colors[i], label=f'Cluster {i}')\n",
        "\n",
        "# Plot cluster centers (replace with your cluster centers)\n",
        "cluster_centers = kmeans.cluster_centers_\n",
        "plt.scatter(cluster_centers[:, 0], cluster_centers[:, 1], c='k', marker='x', s=100, label='Centroids')\n",
        "\n",
        "# Customize the plot\n",
        "plt.title('K-Means Clustering')\n",
        "plt.xlabel('Feature 1')\n",
        "plt.ylabel('Feature 2')\n",
        "plt.legend()\n",
        "# plt.grid(True)\n",
        "\n",
        "# Show the plot\n",
        "plt.show()\n"
      ],
      "metadata": {
        "colab": {
          "base_uri": "https://localhost:8080/",
          "height": 564
        },
        "id": "1ANA3UYpBBKe",
        "outputId": "ee67f4a5-de70-4ca6-fb68-574919f0ce1b"
      },
      "execution_count": 21,
      "outputs": [
        {
          "output_type": "display_data",
          "data": {
            "text/plain": [
              "<Figure size 1000x600 with 1 Axes>"
            ],
            "image/png": "[encoded data removed]"
          },
          "metadata": {}
        }
      ]
    },
    {
      "cell_type": "code",
      "source": [],
      "metadata": {
        "id": "dkdaXE2LP6Mk"
      },
      "execution_count": null,
      "outputs": []
    }
  ]
}